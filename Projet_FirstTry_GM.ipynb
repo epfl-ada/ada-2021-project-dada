{
 "cells": [
  {
   "cell_type": "code",
   "execution_count": 1,
   "id": "0ca5822d",
   "metadata": {},
   "outputs": [
    {
     "data": {
      "text/plain": [
       "list"
      ]
     },
     "execution_count": 1,
     "metadata": {},
     "output_type": "execute_result"
    }
   ],
   "source": [
    "import bz2\n",
    "import json\n",
    "import pandas as pd\n",
    "import matplotlib.pyplot as plt\n",
    "import requests\n",
    "\n",
    "FILEPATH = 'quotes-2019-nytimes.json.bz2'\n",
    "\n",
    "with bz2.open(FILEPATH, \"rt\") as bzinput:\n",
    "    file = []\n",
    "    for i, line in enumerate(bzinput):\n",
    "        tweets = json.loads(line)\n",
    "        file.append(tweets)\n",
    "type(file)"
   ]
  },
  {
   "cell_type": "code",
   "execution_count": null,
   "id": "e7846394",
   "metadata": {},
   "outputs": [],
   "source": [
    "with bz2.open('/Users/geoffraymarie/Downloads/quotes-2019.json.bz2', \"rt\") as bzinput:\n",
    "    file = []\n",
    "    for i, line in enumerate(bzinput):\n",
    "        tweets = json.loads(line)\n",
    "        file.append(tweets)\n",
    "type(file)"
   ]
  },
  {
   "cell_type": "code",
   "execution_count": 6,
   "id": "9c32d606",
   "metadata": {},
   "outputs": [
    {
     "data": {
      "text/html": [
       "<div>\n",
       "<style scoped>\n",
       "    .dataframe tbody tr th:only-of-type {\n",
       "        vertical-align: middle;\n",
       "    }\n",
       "\n",
       "    .dataframe tbody tr th {\n",
       "        vertical-align: top;\n",
       "    }\n",
       "\n",
       "    .dataframe thead th {\n",
       "        text-align: right;\n",
       "    }\n",
       "</style>\n",
       "<table border=\"1\" class=\"dataframe\">\n",
       "  <thead>\n",
       "    <tr style=\"text-align: right;\">\n",
       "      <th></th>\n",
       "      <th>quoteID</th>\n",
       "      <th>quotation</th>\n",
       "      <th>speaker</th>\n",
       "      <th>qids</th>\n",
       "      <th>date</th>\n",
       "      <th>numOccurrences</th>\n",
       "      <th>probas</th>\n",
       "      <th>urls</th>\n",
       "      <th>phase</th>\n",
       "    </tr>\n",
       "  </thead>\n",
       "  <tbody>\n",
       "    <tr>\n",
       "      <th>0</th>\n",
       "      <td>2019-04-17-024782</td>\n",
       "      <td>It is not a low-income immigration,</td>\n",
       "      <td>James Fisher</td>\n",
       "      <td>[Q16213953, Q20707104, Q43143598, Q58886302, Q...</td>\n",
       "      <td>2019-04-17 13:31:18</td>\n",
       "      <td>1</td>\n",
       "      <td>[[James Fisher, 0.7475], [None, 0.2525]]</td>\n",
       "      <td>[https://www.nytimes.com/2019/04/17/realestate...</td>\n",
       "      <td>E</td>\n",
       "    </tr>\n",
       "    <tr>\n",
       "      <th>1</th>\n",
       "      <td>2019-04-02-001128</td>\n",
       "      <td>a champion figure skater switching to roller s...</td>\n",
       "      <td>John Updike</td>\n",
       "      <td>[Q105756]</td>\n",
       "      <td>2019-04-02 14:58:33</td>\n",
       "      <td>2</td>\n",
       "      <td>[[John Updike, 0.5856], [None, 0.4144]]</td>\n",
       "      <td>[https://www.nytimes.com/2019/04/02/opinion/vl...</td>\n",
       "      <td>E</td>\n",
       "    </tr>\n",
       "    <tr>\n",
       "      <th>2</th>\n",
       "      <td>2019-05-09-055187</td>\n",
       "      <td>It makes it much more difficult for him to mak...</td>\n",
       "      <td>None</td>\n",
       "      <td>[]</td>\n",
       "      <td>2019-05-09 18:11:29</td>\n",
       "      <td>1</td>\n",
       "      <td>[[None, 0.6493], [President Bill Clinton, 0.27...</td>\n",
       "      <td>[http://mobile.nytimes.com/2019/05/09/world/as...</td>\n",
       "      <td>E</td>\n",
       "    </tr>\n",
       "    <tr>\n",
       "      <th>3</th>\n",
       "      <td>2019-10-31-056366</td>\n",
       "      <td>It puts me in a predicament,</td>\n",
       "      <td>Xavier Becerra</td>\n",
       "      <td>[Q1855840]</td>\n",
       "      <td>2019-10-31 16:45:15</td>\n",
       "      <td>3</td>\n",
       "      <td>[[Xavier Becerra, 0.9065], [None, 0.0909], [St...</td>\n",
       "      <td>[http://www.nytimes.com/2019/10/31/technology/...</td>\n",
       "      <td>E</td>\n",
       "    </tr>\n",
       "    <tr>\n",
       "      <th>4</th>\n",
       "      <td>2019-01-04-001792</td>\n",
       "      <td>A Pile of Leaves.</td>\n",
       "      <td>None</td>\n",
       "      <td>[]</td>\n",
       "      <td>2019-01-04 10:00:07</td>\n",
       "      <td>1</td>\n",
       "      <td>[[None, 0.8737], [Jason Fulford, 0.1263]]</td>\n",
       "      <td>[https://www.nytimes.com/2019/01/04/books/revi...</td>\n",
       "      <td>E</td>\n",
       "    </tr>\n",
       "    <tr>\n",
       "      <th>5</th>\n",
       "      <td>2019-08-15-002017</td>\n",
       "      <td>A Senator we can call our own.</td>\n",
       "      <td>Tom Rath</td>\n",
       "      <td>[Q7817334]</td>\n",
       "      <td>2019-08-15 22:36:33</td>\n",
       "      <td>1</td>\n",
       "      <td>[[Tom Rath, 0.7598], [None, 0.1993], [Warren R...</td>\n",
       "      <td>[http://www.nytimes.com/2019/08/15/us/politics...</td>\n",
       "      <td>E</td>\n",
       "    </tr>\n",
       "    <tr>\n",
       "      <th>6</th>\n",
       "      <td>2019-02-12-002452</td>\n",
       "      <td>a thorn in the side of cabinet,</td>\n",
       "      <td>None</td>\n",
       "      <td>[]</td>\n",
       "      <td>2019-02-12 16:43:04</td>\n",
       "      <td>8</td>\n",
       "      <td>[[None, 0.463], [Jody Wilson-Raybould, 0.4073]...</td>\n",
       "      <td>[https://castlegarsource.com/news/letter-apolo...</td>\n",
       "      <td>E</td>\n",
       "    </tr>\n",
       "    <tr>\n",
       "      <th>7</th>\n",
       "      <td>2019-01-28-048557</td>\n",
       "      <td>It was just on a lark,</td>\n",
       "      <td>None</td>\n",
       "      <td>[]</td>\n",
       "      <td>2019-01-28 18:32:47</td>\n",
       "      <td>2</td>\n",
       "      <td>[[None, 0.5762], [Alexander the Great, 0.2153]...</td>\n",
       "      <td>[http://www.nytimes.com/2019/01/28/health/micr...</td>\n",
       "      <td>E</td>\n",
       "    </tr>\n",
       "    <tr>\n",
       "      <th>8</th>\n",
       "      <td>2019-07-22-032883</td>\n",
       "      <td>It's a success, a relief and a technical feat,</td>\n",
       "      <td>Florence Parly</td>\n",
       "      <td>[Q3074013]</td>\n",
       "      <td>2019-07-22 02:37:50</td>\n",
       "      <td>21</td>\n",
       "      <td>[[Florence Parly, 0.9262], [None, 0.0738]]</td>\n",
       "      <td>[http://www.breitbart.com/news/french-submarin...</td>\n",
       "      <td>E</td>\n",
       "    </tr>\n",
       "    <tr>\n",
       "      <th>9</th>\n",
       "      <td>2019-12-31-002666</td>\n",
       "      <td>always appreciates and respects the work and a...</td>\n",
       "      <td>None</td>\n",
       "      <td>[]</td>\n",
       "      <td>2019-12-31 22:09:50</td>\n",
       "      <td>3</td>\n",
       "      <td>[[None, 0.8953], [President Trump, 0.1047]]</td>\n",
       "      <td>[http://www.ibtimes.com/climate-change-epa-sci...</td>\n",
       "      <td>E</td>\n",
       "    </tr>\n",
       "  </tbody>\n",
       "</table>\n",
       "</div>"
      ],
      "text/plain": [
       "             quoteID                                          quotation  \\\n",
       "0  2019-04-17-024782                It is not a low-income immigration,   \n",
       "1  2019-04-02-001128  a champion figure skater switching to roller s...   \n",
       "2  2019-05-09-055187  It makes it much more difficult for him to mak...   \n",
       "3  2019-10-31-056366                       It puts me in a predicament,   \n",
       "4  2019-01-04-001792                                  A Pile of Leaves.   \n",
       "5  2019-08-15-002017                     A Senator we can call our own.   \n",
       "6  2019-02-12-002452                    a thorn in the side of cabinet,   \n",
       "7  2019-01-28-048557                             It was just on a lark,   \n",
       "8  2019-07-22-032883     It's a success, a relief and a technical feat,   \n",
       "9  2019-12-31-002666  always appreciates and respects the work and a...   \n",
       "\n",
       "          speaker                                               qids  \\\n",
       "0    James Fisher  [Q16213953, Q20707104, Q43143598, Q58886302, Q...   \n",
       "1     John Updike                                          [Q105756]   \n",
       "2            None                                                 []   \n",
       "3  Xavier Becerra                                         [Q1855840]   \n",
       "4            None                                                 []   \n",
       "5        Tom Rath                                         [Q7817334]   \n",
       "6            None                                                 []   \n",
       "7            None                                                 []   \n",
       "8  Florence Parly                                         [Q3074013]   \n",
       "9            None                                                 []   \n",
       "\n",
       "                  date  numOccurrences  \\\n",
       "0  2019-04-17 13:31:18               1   \n",
       "1  2019-04-02 14:58:33               2   \n",
       "2  2019-05-09 18:11:29               1   \n",
       "3  2019-10-31 16:45:15               3   \n",
       "4  2019-01-04 10:00:07               1   \n",
       "5  2019-08-15 22:36:33               1   \n",
       "6  2019-02-12 16:43:04               8   \n",
       "7  2019-01-28 18:32:47               2   \n",
       "8  2019-07-22 02:37:50              21   \n",
       "9  2019-12-31 22:09:50               3   \n",
       "\n",
       "                                              probas  \\\n",
       "0           [[James Fisher, 0.7475], [None, 0.2525]]   \n",
       "1            [[John Updike, 0.5856], [None, 0.4144]]   \n",
       "2  [[None, 0.6493], [President Bill Clinton, 0.27...   \n",
       "3  [[Xavier Becerra, 0.9065], [None, 0.0909], [St...   \n",
       "4          [[None, 0.8737], [Jason Fulford, 0.1263]]   \n",
       "5  [[Tom Rath, 0.7598], [None, 0.1993], [Warren R...   \n",
       "6  [[None, 0.463], [Jody Wilson-Raybould, 0.4073]...   \n",
       "7  [[None, 0.5762], [Alexander the Great, 0.2153]...   \n",
       "8         [[Florence Parly, 0.9262], [None, 0.0738]]   \n",
       "9        [[None, 0.8953], [President Trump, 0.1047]]   \n",
       "\n",
       "                                                urls phase  \n",
       "0  [https://www.nytimes.com/2019/04/17/realestate...     E  \n",
       "1  [https://www.nytimes.com/2019/04/02/opinion/vl...     E  \n",
       "2  [http://mobile.nytimes.com/2019/05/09/world/as...     E  \n",
       "3  [http://www.nytimes.com/2019/10/31/technology/...     E  \n",
       "4  [https://www.nytimes.com/2019/01/04/books/revi...     E  \n",
       "5  [http://www.nytimes.com/2019/08/15/us/politics...     E  \n",
       "6  [https://castlegarsource.com/news/letter-apolo...     E  \n",
       "7  [http://www.nytimes.com/2019/01/28/health/micr...     E  \n",
       "8  [http://www.breitbart.com/news/french-submarin...     E  \n",
       "9  [http://www.ibtimes.com/climate-change-epa-sci...     E  "
      ]
     },
     "execution_count": 6,
     "metadata": {},
     "output_type": "execute_result"
    }
   ],
   "source": [
    "df = pd.DataFrame(file)\n",
    "df.head(10)"
   ]
  },
  {
   "cell_type": "code",
   "execution_count": 5,
   "id": "3e91d660",
   "metadata": {},
   "outputs": [
    {
     "ename": "NameError",
     "evalue": "name 'df' is not defined",
     "output_type": "error",
     "traceback": [
      "\u001b[0;31m---------------------------------------------------------------------------\u001b[0m",
      "\u001b[0;31mNameError\u001b[0m                                 Traceback (most recent call last)",
      "\u001b[0;32m/var/folders/tx/6grwnz252bb5kb_vbl7x58wm0000gn/T/ipykernel_2986/425046188.py\u001b[0m in \u001b[0;36m<module>\u001b[0;34m\u001b[0m\n\u001b[0;32m----> 1\u001b[0;31m \u001b[0mdf\u001b[0m\u001b[0;34m[\u001b[0m\u001b[0;34m'date'\u001b[0m\u001b[0;34m]\u001b[0m\u001b[0;34m=\u001b[0m \u001b[0mpd\u001b[0m\u001b[0;34m.\u001b[0m\u001b[0mto_datetime\u001b[0m\u001b[0;34m(\u001b[0m\u001b[0mdf\u001b[0m\u001b[0;34m[\u001b[0m\u001b[0;34m'date'\u001b[0m\u001b[0;34m]\u001b[0m\u001b[0;34m)\u001b[0m\u001b[0;34m\u001b[0m\u001b[0;34m\u001b[0m\u001b[0m\n\u001b[0m\u001b[1;32m      2\u001b[0m \u001b[0mdf\u001b[0m\u001b[0;34m.\u001b[0m\u001b[0mdtypes\u001b[0m\u001b[0;34m\u001b[0m\u001b[0;34m\u001b[0m\u001b[0m\n",
      "\u001b[0;31mNameError\u001b[0m: name 'df' is not defined"
     ]
    }
   ],
   "source": [
    "df['date']= pd.to_datetime(df['date'])\n",
    "df.dtypes"
   ]
  },
  {
   "cell_type": "code",
   "execution_count": 8,
   "id": "507c46bd-65c5-4778-94df-8120fb9b4570",
   "metadata": {},
   "outputs": [],
   "source": [
    "sparql_query = \"\"\"\n",
    "        prefix schema: <http://schema.org/>\n",
    "        SELECT ?item ?occupation ?genderLabel ?bdayLabel\n",
    "        WHERE {\n",
    "            <https://www.wikidata.org/wiki/Q3074013> schema:about ?item .\n",
    "            ?item wdt:P106 ?occupation .\n",
    "            ?item wdt:P21 ?gender .\n",
    "            ?item wdt:P569 ?bday .\n",
    "            SERVICE wikibase:label { bd:serviceParam wikibase:language \"en\" }\n",
    "        }\n",
    "    \"\"\""
   ]
  },
  {
   "cell_type": "code",
   "execution_count": 9,
   "id": "2cffa8a3-17ca-497d-a656-724fd185ad93",
   "metadata": {},
   "outputs": [],
   "source": [
    "url = 'https://query.wikidata.org/sparql'\n",
    "\n",
    "r = requests.get(url, params={'format': 'json', 'query': sparql_query})\n",
    "data = r.json()\n"
   ]
  },
  {
   "cell_type": "code",
   "execution_count": 10,
   "id": "704eb186-e851-4df5-9029-1a83d063bdcd",
   "metadata": {},
   "outputs": [
    {
     "name": "stdout",
     "output_type": "stream",
     "text": [
      "[]\n"
     ]
    }
   ],
   "source": [
    "print(data['results']['bindings'])"
   ]
  },
  {
   "cell_type": "code",
   "execution_count": null,
   "id": "c45f2561-5f85-4009-8e82-70faa89c5732",
   "metadata": {},
   "outputs": [],
   "source": [
    "query = \"\"\"SELECT ?book ?title ?illustratorLabel ?publisherLabel ?published\n",
    "    WHERE\n",
    "    {\n",
    "      ?book wdt:P50 wd:Q35610.\n",
    "      OPTIONAL {\n",
    "        ?book wdt:P1476 ?title;\n",
    "              wdt:P110 ?illustrator;\n",
    "              wdt:P123 ?publisher;\n",
    "              wdt:P577 ?published.\n",
    "      }\n",
    "      SERVICE wikibase:label { bd:serviceParam wikibase:language \"en\". }\n",
    "    }\n",
    "    \"\"\"\n",
    "r = requests.get(url, params={'format': 'json', 'query': query})\n",
    "data = r.json()\n",
    "print(data['results']['bindings'])"
   ]
  },
  {
   "cell_type": "code",
   "execution_count": 5,
   "id": "808e2b38-27a4-449b-b072-77b25edac1e7",
   "metadata": {},
   "outputs": [],
   "source": [
    "l= df['urls'][0][0]"
   ]
  },
  {
   "cell_type": "code",
   "execution_count": 30,
   "id": "66058b50-93f3-4682-93b6-baed9bffec20",
   "metadata": {},
   "outputs": [
    {
     "data": {
      "text/plain": [
       "'https://www.nytimes.com/2019/04/17/realestate/house-hunting-in-hong-kong.html?partner=rss&emc=rss'"
      ]
     },
     "execution_count": 30,
     "metadata": {},
     "output_type": "execute_result"
    }
   ],
   "source": [
    "l"
   ]
  },
  {
   "cell_type": "code",
   "execution_count": 3,
   "id": "10120478-7797-456a-ad7c-03af1b26b98c",
   "metadata": {},
   "outputs": [],
   "source": [
    "def extract_url(string):\n",
    "    paper = ''\n",
    "    l = 0\n",
    "    while l<len(string) and string[l] != '/':\n",
    "        l+=1\n",
    "    l+=2\n",
    "    while l<len(string) and string[l] != '/':\n",
    "        paper = paper + string[l]\n",
    "        l+=1\n",
    "    return paper"
   ]
  },
  {
   "cell_type": "code",
   "execution_count": 9,
   "id": "9b384112-c26c-4ca6-ab63-c47d191ba846",
   "metadata": {},
   "outputs": [
    {
     "name": "stdout",
     "output_type": "stream",
     "text": [
      "www.nytimes.com\n"
     ]
    }
   ],
   "source": [
    "rep = extract_url(l)\n",
    "print(rep)"
   ]
  },
  {
   "cell_type": "code",
   "execution_count": 7,
   "id": "d935c670-038e-4187-a513-c0ea8b66d058",
   "metadata": {},
   "outputs": [],
   "source": [
    "import collections\n",
    "counter = collections.Counter()\n",
    "for k in range (df.shape[0]):\n",
    "    paper = extract_url(df['urls'][k][0])\n",
    "    counter[paper] += 1"
   ]
  },
  {
   "cell_type": "code",
   "execution_count": 8,
   "id": "4b48633a-ccb9-4a8c-88a2-b324b1f8d8f6",
   "metadata": {},
   "outputs": [],
   "source": [
    "counter = pd.DataFrame(counter, index=[0]).T"
   ]
  },
  {
   "cell_type": "code",
   "execution_count": 9,
   "id": "2a0c8110-6093-48d0-aae8-794891390a5d",
   "metadata": {},
   "outputs": [
    {
     "data": {
      "text/html": [
       "<div>\n",
       "<style scoped>\n",
       "    .dataframe tbody tr th:only-of-type {\n",
       "        vertical-align: middle;\n",
       "    }\n",
       "\n",
       "    .dataframe tbody tr th {\n",
       "        vertical-align: top;\n",
       "    }\n",
       "\n",
       "    .dataframe thead th {\n",
       "        text-align: right;\n",
       "    }\n",
       "</style>\n",
       "<table border=\"1\" class=\"dataframe\">\n",
       "  <thead>\n",
       "    <tr style=\"text-align: right;\">\n",
       "      <th></th>\n",
       "      <th>0</th>\n",
       "    </tr>\n",
       "  </thead>\n",
       "  <tbody>\n",
       "    <tr>\n",
       "      <th>www.nytimes.com</th>\n",
       "      <td>129323</td>\n",
       "    </tr>\n",
       "    <tr>\n",
       "      <th>nytimes.com</th>\n",
       "      <td>26362</td>\n",
       "    </tr>\n",
       "    <tr>\n",
       "      <th>mobile.nytimes.com</th>\n",
       "      <td>18255</td>\n",
       "    </tr>\n",
       "    <tr>\n",
       "      <th>www.seattletimes.com</th>\n",
       "      <td>3820</td>\n",
       "    </tr>\n",
       "    <tr>\n",
       "      <th>feeds.nytimes.com</th>\n",
       "      <td>1187</td>\n",
       "    </tr>\n",
       "    <tr>\n",
       "      <th>hypervocal.com</th>\n",
       "      <td>1119</td>\n",
       "    </tr>\n",
       "    <tr>\n",
       "      <th>www.msn.com</th>\n",
       "      <td>928</td>\n",
       "    </tr>\n",
       "    <tr>\n",
       "      <th>feeds.foxnews.com</th>\n",
       "      <td>830</td>\n",
       "    </tr>\n",
       "    <tr>\n",
       "      <th>www.breitbart.com</th>\n",
       "      <td>741</td>\n",
       "    </tr>\n",
       "    <tr>\n",
       "      <th>www.theglobeandmail.com</th>\n",
       "      <td>717</td>\n",
       "    </tr>\n",
       "    <tr>\n",
       "      <th>feeds.themorningnews.org</th>\n",
       "      <td>501</td>\n",
       "    </tr>\n",
       "    <tr>\n",
       "      <th>www.canindia.com</th>\n",
       "      <td>430</td>\n",
       "    </tr>\n",
       "    <tr>\n",
       "      <th>www.bostonglobe.com</th>\n",
       "      <td>372</td>\n",
       "    </tr>\n",
       "    <tr>\n",
       "      <th>www.pulse.ng</th>\n",
       "      <td>348</td>\n",
       "    </tr>\n",
       "    <tr>\n",
       "      <th>www.bendbulletin.com</th>\n",
       "      <td>346</td>\n",
       "    </tr>\n",
       "    <tr>\n",
       "      <th>www.rawstory.com</th>\n",
       "      <td>330</td>\n",
       "    </tr>\n",
       "    <tr>\n",
       "      <th>www.washingtontimes.com</th>\n",
       "      <td>314</td>\n",
       "    </tr>\n",
       "    <tr>\n",
       "      <th>www.pulse.com.gh</th>\n",
       "      <td>302</td>\n",
       "    </tr>\n",
       "    <tr>\n",
       "      <th>www.businessinsider.com</th>\n",
       "      <td>289</td>\n",
       "    </tr>\n",
       "    <tr>\n",
       "      <th>dailyherald.com</th>\n",
       "      <td>286</td>\n",
       "    </tr>\n",
       "  </tbody>\n",
       "</table>\n",
       "</div>"
      ],
      "text/plain": [
       "                               0\n",
       "www.nytimes.com           129323\n",
       "nytimes.com                26362\n",
       "mobile.nytimes.com         18255\n",
       "www.seattletimes.com        3820\n",
       "feeds.nytimes.com           1187\n",
       "hypervocal.com              1119\n",
       "www.msn.com                  928\n",
       "feeds.foxnews.com            830\n",
       "www.breitbart.com            741\n",
       "www.theglobeandmail.com      717\n",
       "feeds.themorningnews.org     501\n",
       "www.canindia.com             430\n",
       "www.bostonglobe.com          372\n",
       "www.pulse.ng                 348\n",
       "www.bendbulletin.com         346\n",
       "www.rawstory.com             330\n",
       "www.washingtontimes.com      314\n",
       "www.pulse.com.gh             302\n",
       "www.businessinsider.com      289\n",
       "dailyherald.com              286"
      ]
     },
     "execution_count": 9,
     "metadata": {},
     "output_type": "execute_result"
    }
   ],
   "source": [
    "counter = counter.sort_values(by = [0], ascending = False).iloc[:20]\n",
    "counter.head(20)"
   ]
  },
  {
   "cell_type": "code",
   "execution_count": 98,
   "id": "1cb8587e",
   "metadata": {},
   "outputs": [
    {
     "data": {
      "text/plain": [
       "0    173940\n",
       "dtype: int64"
      ]
     },
     "execution_count": 98,
     "metadata": {},
     "output_type": "execute_result"
    }
   ],
   "source": [
    "counter.iloc[:3].sum()"
   ]
  },
  {
   "cell_type": "code",
   "execution_count": 99,
   "id": "d66b0306-5d33-4e9b-8a62-5219c4de880d",
   "metadata": {},
   "outputs": [
    {
     "data": {
      "text/plain": [
       "83.81559989784462"
      ]
     },
     "execution_count": 99,
     "metadata": {},
     "output_type": "execute_result"
    }
   ],
   "source": [
    "173940/207527*100"
   ]
  },
  {
   "cell_type": "code",
   "execution_count": 86,
   "id": "8a693d75",
   "metadata": {},
   "outputs": [
    {
     "data": {
      "text/plain": [
       "array(['www.nytimes.com', 'nytimes.com', 'mobile.nytimes.com',\n",
       "       'www.seattletimes.com', 'feeds.nytimes.com', 'hypervocal.com',\n",
       "       'www.msn.com', 'feeds.foxnews.com', 'www.breitbart.com',\n",
       "       'www.theglobeandmail.com', 'feeds.themorningnews.org',\n",
       "       'www.canindia.com', 'www.bostonglobe.com', 'www.pulse.ng',\n",
       "       'www.bendbulletin.com', 'www.rawstory.com',\n",
       "       'www.washingtontimes.com', 'www.pulse.com.gh',\n",
       "       'www.businessinsider.com', 'dailyherald.com'], dtype=object)"
      ]
     },
     "execution_count": 86,
     "metadata": {},
     "output_type": "execute_result"
    }
   ],
   "source": [
    "counter.index.values"
   ]
  },
  {
   "cell_type": "code",
   "execution_count": 84,
   "id": "31039f68",
   "metadata": {},
   "outputs": [
    {
     "data": {
      "text/plain": [
       "array([129323,  26362,  18255,   3820,   1187,   1119,    928,    830,\n",
       "          741,    717,    501,    430,    372,    348,    346,    330,\n",
       "          314,    302,    289,    286])"
      ]
     },
     "execution_count": 84,
     "metadata": {},
     "output_type": "execute_result"
    }
   ],
   "source": [
    "counter.values.squeeze()"
   ]
  },
  {
   "cell_type": "code",
   "execution_count": 92,
   "id": "4eba07b2",
   "metadata": {},
   "outputs": [
    {
     "data": {
      "text/plain": [
       "(array([0., 0., 0., 0., 0., 0., 0., 0., 0., 0., 0., 0., 0., 0., 0., 0., 0.,\n",
       "        0., 0.]),\n",
       " array([ 0,  1,  2,  3,  4,  5,  6,  7,  8,  9, 10, 11, 12, 13, 14, 15, 16,\n",
       "        17, 18, 19]),\n",
       " <BarContainer object of 19 artists>)"
      ]
     },
     "execution_count": 92,
     "metadata": {},
     "output_type": "execute_result"
    },
    {
     "data": {
      "image/png": "[encoded data removed]",
      "text/plain": [
       "<Figure size 432x288 with 1 Axes>"
      ]
     },
     "metadata": {
      "needs_background": "light"
     },
     "output_type": "display_data"
    }
   ],
   "source": [
    "plt.hist(counter.values.squeeze(), [k for k in range(20)])"
   ]
  },
  {
   "cell_type": "code",
   "execution_count": 72,
   "id": "3799bf74",
   "metadata": {},
   "outputs": [
    {
     "data": {
      "text/plain": [
       "array([129323,  26362,  18255,   3820,   1187,   1119,    928,    830,\n",
       "          741,    717,    501,    430,    372,    348,    346,    330,\n",
       "          314,    302,    289,    286])"
      ]
     },
     "execution_count": 72,
     "metadata": {},
     "output_type": "execute_result"
    }
   ],
   "source": [
    "y[:20].squeeze()"
   ]
  },
  {
   "cell_type": "code",
   "execution_count": 63,
   "id": "ebb47d09",
   "metadata": {},
   "outputs": [
    {
     "data": {
      "text/plain": [
       "129323"
      ]
     },
     "execution_count": 63,
     "metadata": {},
     "output_type": "execute_result"
    }
   ],
   "source": [
    "y[0][0]"
   ]
  },
  {
   "cell_type": "code",
   "execution_count": null,
   "id": "d479fcf0",
   "metadata": {},
   "outputs": [],
   "source": []
  }
 ],
 "metadata": {
  "kernelspec": {
   "display_name": "Python [conda env:ada] *",
   "language": "python",
   "name": "conda-env-ada-py"
  },
  "language_info": {
   "codemirror_mode": {
    "name": "ipython",
    "version": 3
   },
   "file_extension": ".py",
   "mimetype": "text/x-python",
   "name": "python",
   "nbconvert_exporter": "python",
   "pygments_lexer": "ipython3",
   "version": "3.8.11"
  }
 },
 "nbformat": 4,
 "nbformat_minor": 5
}
